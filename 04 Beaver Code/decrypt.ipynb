{
 "cells": [
  {
   "cell_type": "code",
   "execution_count": 1,
   "metadata": {},
   "outputs": [],
   "source": [
    "with open('cypher.txt', 'r') as cypher:\n",
    "    cypher_text = cypher.read()"
   ]
  },
  {
   "cell_type": "code",
   "execution_count": 44,
   "metadata": {},
   "outputs": [
    {
     "name": "stdout",
     "output_type": "stream",
     "text": [
      "TWOBEAVERSAREBETTERTHANONE\n"
     ]
    }
   ],
   "source": [
    "def decrypt(ciphertext, positions=None):\n",
    "    if positions is None:\n",
    "        positions = list(range(len(ciphertext)))\n",
    "    if len(ciphertext) <= 2:\n",
    "        return {positions[i]: ciphertext[i] for i in range(len(ciphertext))}\n",
    "    # Split positions into odd and even indices\n",
    "    positions_L = positions[::2]  # Odd positions in plaintext\n",
    "    positions_R = positions[1::2]  # Even positions in plaintext\n",
    "    len_L = len(positions_L)\n",
    "    len_R = len(positions_R)\n",
    "    # Split ciphertext into left and right parts\n",
    "    C_L = ciphertext[:len_L]\n",
    "    C_R = ciphertext[len_L:]\n",
    "    # Recursively decrypt the left and right parts\n",
    "    P_L = decrypt(C_L, positions_L)\n",
    "    P_R = decrypt(C_R, positions_R)\n",
    "    # Combine the decrypted parts\n",
    "    P = {}\n",
    "    P.update(P_L)\n",
    "    P.update(P_R)\n",
    "    return P\n",
    "\n",
    "decrypted_dict = decrypt(cypher_text)\n",
    "# Extract the plaintext by ordering letters according to positions\n",
    "plaintext_positions = sorted(decrypted_dict.keys())\n",
    "plaintext = ''.join(decrypted_dict[pos] for pos in plaintext_positions)\n",
    "print(plaintext)\n"
   ]
  }
 ],
 "metadata": {
  "kernelspec": {
   "display_name": "cryptography",
   "language": "python",
   "name": "python3"
  },
  "language_info": {
   "codemirror_mode": {
    "name": "ipython",
    "version": 3
   },
   "file_extension": ".py",
   "mimetype": "text/x-python",
   "name": "python",
   "nbconvert_exporter": "python",
   "pygments_lexer": "ipython3",
   "version": "3.11.9"
  }
 },
 "nbformat": 4,
 "nbformat_minor": 2
}
