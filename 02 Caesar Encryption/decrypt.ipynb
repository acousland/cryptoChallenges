{
 "cells": [
  {
   "cell_type": "code",
   "execution_count": 1,
   "metadata": {},
   "outputs": [],
   "source": [
    "with open('ciphertext.txt', 'r') as file:\n",
    "    ciphertext = file.read()"
   ]
  },
  {
   "cell_type": "code",
   "execution_count": 2,
   "metadata": {},
   "outputs": [
    {
     "data": {
      "text/plain": [
       "'Xlmw irgvCtxih qiwweki wlepp gpevmjC lsA RSX xs irgvCtx e qiwweki xsheC! Izir mj mx Aew wyjjmgmirx efsyx 6444 Cievw eks, sv xs fi qsvi tvigmwi mr xli Ciev 88 FG, rsAeheCw mx mw rsx. XsheC iegl ws-geppih Wgvmtx Omhhmi Asyph fi efpi xs kix wirwmxmzi mrjsvqexmsr, mj xliC Aivi irgvCtxih xlmw AeC.'"
      ]
     },
     "execution_count": 2,
     "metadata": {},
     "output_type": "execute_result"
    }
   ],
   "source": [
    "ciphertext"
   ]
  },
  {
   "cell_type": "code",
   "execution_count": 11,
   "metadata": {},
   "outputs": [
    {
     "data": {
      "text/plain": [
       "97"
      ]
     },
     "execution_count": 11,
     "metadata": {},
     "output_type": "execute_result"
    }
   ],
   "source": [
    "character = \"a\"\n",
    "ord(character)"
   ]
  },
  {
   "cell_type": "code",
   "execution_count": 70,
   "metadata": {},
   "outputs": [],
   "source": [
    "def ASCII_Base62_convert(n):\n",
    "    character = ord(n)\n",
    "    if 48 <= character <= 57: \n",
    "        character = character - 48\n",
    "    elif 65 <= character <= 90:\n",
    "        character = character - 55\n",
    "    elif 97 <= character <= 122:\n",
    "        character = character - 61\n",
    "    return character"
   ]
  },
  {
   "cell_type": "code",
   "execution_count": 71,
   "metadata": {},
   "outputs": [],
   "source": [
    "def Base62_ASCII_convert(n):\n",
    "    if 0 <= n <= 9: \n",
    "        n = n + 48\n",
    "    elif 10 <= n <= 35:\n",
    "        n = n + 55\n",
    "    elif 36 <= n <= 61:\n",
    "        n = n + 61\n",
    "    return chr(n)"
   ]
  },
  {
   "cell_type": "code",
   "execution_count": 73,
   "metadata": {},
   "outputs": [],
   "source": [
    "ciphertext_list = list(ciphertext)"
   ]
  },
  {
   "cell_type": "code",
   "execution_count": 74,
   "metadata": {},
   "outputs": [],
   "source": [
    "converted_list = [ASCII_Base62_convert(character) for character in ciphertext_list]"
   ]
  },
  {
   "cell_type": "code",
   "execution_count": 75,
   "metadata": {},
   "outputs": [
    {
     "data": {
      "text/plain": [
       "[33,\n",
       " 47,\n",
       " 48,\n",
       " 58,\n",
       " 32,\n",
       " 44,\n",
       " 53,\n",
       " 42,\n",
       " 57,\n",
       " 12,\n",
       " 55,\n",
       " 59,\n",
       " 44,\n",
       " 43,\n",
       " 32,\n",
       " 52,\n",
       " 44,\n",
       " 58,\n",
       " 58,\n",
       " 40,\n",
       " 46,\n",
       " 44,\n",
       " 32,\n",
       " 58,\n",
       " 47,\n",
       " 40,\n",
       " 51,\n",
       " 51,\n",
       " 32,\n",
       " 42,\n",
       " 51,\n",
       " 40,\n",
       " 57,\n",
       " 48,\n",
       " 45,\n",
       " 12,\n",
       " 32,\n",
       " 47,\n",
       " 54,\n",
       " 10,\n",
       " 32,\n",
       " 27,\n",
       " 28,\n",
       " 33,\n",
       " 32,\n",
       " 59,\n",
       " 54,\n",
       " 32,\n",
       " 44,\n",
       " 53,\n",
       " 42,\n",
       " 57,\n",
       " 12,\n",
       " 55,\n",
       " 59,\n",
       " 32,\n",
       " 40,\n",
       " 32,\n",
       " 52,\n",
       " 44,\n",
       " 58,\n",
       " 58,\n",
       " 40,\n",
       " 46,\n",
       " 44,\n",
       " 32,\n",
       " 59,\n",
       " 54,\n",
       " 43,\n",
       " 40,\n",
       " 12,\n",
       " 33,\n",
       " 32,\n",
       " 18,\n",
       " 61,\n",
       " 44,\n",
       " 53,\n",
       " 32,\n",
       " 48,\n",
       " 45,\n",
       " 32,\n",
       " 48,\n",
       " 59,\n",
       " 32,\n",
       " 10,\n",
       " 40,\n",
       " 58,\n",
       " 32,\n",
       " 58,\n",
       " 60,\n",
       " 45,\n",
       " 45,\n",
       " 48,\n",
       " 42,\n",
       " 48,\n",
       " 44,\n",
       " 53,\n",
       " 59,\n",
       " 32,\n",
       " 40,\n",
       " 41,\n",
       " 54,\n",
       " 60,\n",
       " 59,\n",
       " 32,\n",
       " 6,\n",
       " 4,\n",
       " 4,\n",
       " 4,\n",
       " 32,\n",
       " 12,\n",
       " 44,\n",
       " 40,\n",
       " 57,\n",
       " 58,\n",
       " 32,\n",
       " 40,\n",
       " 46,\n",
       " 54,\n",
       " 44,\n",
       " 32,\n",
       " 54,\n",
       " 57,\n",
       " 32,\n",
       " 59,\n",
       " 54,\n",
       " 32,\n",
       " 41,\n",
       " 44,\n",
       " 32,\n",
       " 52,\n",
       " 54,\n",
       " 57,\n",
       " 44,\n",
       " 32,\n",
       " 55,\n",
       " 57,\n",
       " 44,\n",
       " 42,\n",
       " 48,\n",
       " 58,\n",
       " 44,\n",
       " 32,\n",
       " 48,\n",
       " 53,\n",
       " 32,\n",
       " 59,\n",
       " 47,\n",
       " 44,\n",
       " 32,\n",
       " 12,\n",
       " 44,\n",
       " 40,\n",
       " 57,\n",
       " 32,\n",
       " 8,\n",
       " 8,\n",
       " 32,\n",
       " 15,\n",
       " 16,\n",
       " 44,\n",
       " 32,\n",
       " 53,\n",
       " 54,\n",
       " 10,\n",
       " 40,\n",
       " 43,\n",
       " 40,\n",
       " 12,\n",
       " 58,\n",
       " 32,\n",
       " 48,\n",
       " 59,\n",
       " 32,\n",
       " 48,\n",
       " 58,\n",
       " 32,\n",
       " 53,\n",
       " 54,\n",
       " 59,\n",
       " 46,\n",
       " 32,\n",
       " 33,\n",
       " 54,\n",
       " 43,\n",
       " 40,\n",
       " 12,\n",
       " 32,\n",
       " 44,\n",
       " 40,\n",
       " 42,\n",
       " 47,\n",
       " 32,\n",
       " 58,\n",
       " 54,\n",
       " 45,\n",
       " 42,\n",
       " 40,\n",
       " 51,\n",
       " 51,\n",
       " 44,\n",
       " 43,\n",
       " 32,\n",
       " 32,\n",
       " 42,\n",
       " 57,\n",
       " 48,\n",
       " 55,\n",
       " 59,\n",
       " 32,\n",
       " 24,\n",
       " 48,\n",
       " 43,\n",
       " 43,\n",
       " 48,\n",
       " 44,\n",
       " 32,\n",
       " 10,\n",
       " 54,\n",
       " 60,\n",
       " 51,\n",
       " 43,\n",
       " 32,\n",
       " 41,\n",
       " 44,\n",
       " 32,\n",
       " 40,\n",
       " 41,\n",
       " 51,\n",
       " 44,\n",
       " 32,\n",
       " 59,\n",
       " 54,\n",
       " 32,\n",
       " 46,\n",
       " 44,\n",
       " 59,\n",
       " 32,\n",
       " 58,\n",
       " 44,\n",
       " 53,\n",
       " 58,\n",
       " 48,\n",
       " 59,\n",
       " 48,\n",
       " 61,\n",
       " 44,\n",
       " 32,\n",
       " 48,\n",
       " 53,\n",
       " 45,\n",
       " 54,\n",
       " 57,\n",
       " 52,\n",
       " 40,\n",
       " 59,\n",
       " 48,\n",
       " 54,\n",
       " 53,\n",
       " 44,\n",
       " 32,\n",
       " 48,\n",
       " 45,\n",
       " 32,\n",
       " 59,\n",
       " 47,\n",
       " 44,\n",
       " 12,\n",
       " 32,\n",
       " 10,\n",
       " 44,\n",
       " 57,\n",
       " 44,\n",
       " 32,\n",
       " 44,\n",
       " 53,\n",
       " 42,\n",
       " 57,\n",
       " 12,\n",
       " 55,\n",
       " 59,\n",
       " 44,\n",
       " 43,\n",
       " 32,\n",
       " 59,\n",
       " 47,\n",
       " 48,\n",
       " 58,\n",
       " 32,\n",
       " 10,\n",
       " 40,\n",
       " 12,\n",
       " 46]"
      ]
     },
     "execution_count": 75,
     "metadata": {},
     "output_type": "execute_result"
    }
   ],
   "source": [
    "converted_list"
   ]
  },
  {
   "cell_type": "code",
   "execution_count": 89,
   "metadata": {},
   "outputs": [],
   "source": [
    "\n",
    "def shiftList(lst, number):\n",
    "    return [(element + number) % 62 if element + number > 61 else element + number for element in lst]"
   ]
  },
  {
   "cell_type": "code",
   "execution_count": 81,
   "metadata": {},
   "outputs": [],
   "source": [
    "newList = shiftList(converted_list,0)\n",
    "converted_list_2 = [Base62_ASCII_convert(character) for character in newList]"
   ]
  },
  {
   "cell_type": "code",
   "execution_count": 84,
   "metadata": {},
   "outputs": [],
   "source": [
    "concatenated_cypher = ''.join(converted_list_2)"
   ]
  },
  {
   "cell_type": "code",
   "execution_count": 85,
   "metadata": {},
   "outputs": [
    {
     "data": {
      "text/plain": [
       "'XlmwWirgvCtxihWqiwwekiWwleppWgpevmjCWlsAWRSXWxsWirgvCtxWeWqiwwekiWxsheCXWIzirWmjWmxWAewWwyjjmgmirxWefsyxW6444WCievwWeksiWsvWxsWfiWqsviWtvigmwiWmrWxliWCievW88WFGiWrsAeheCwWmxWmwWrsxkWXsheCWieglWwsjgeppihWWgvmtxWOmhhmiWAsyphWfiWefpiWxsWkixWwirwmxmziWmrjsvqexmsriWmjWxliCWAiviWirgvCtxihWxlmwWAeCk'"
      ]
     },
     "execution_count": 85,
     "metadata": {},
     "output_type": "execute_result"
    }
   ],
   "source": [
    "concatenated_cypher"
   ]
  },
  {
   "cell_type": "code",
   "execution_count": 90,
   "metadata": {},
   "outputs": [
    {
     "name": "stdout",
     "output_type": "stream",
     "text": [
      "YmnxXjshwDuyjiXrjxxfljXxmfqqXhqfwnkDXmtBXSTYXytXjshwDuyXfXrjxxfljXytifDYXJ0jsXnkXnyXBfxXxzkknhnjsyXfgtzyX7555XDjfwxXfltjXtwXytXgjXrtwjXuwjhnxjXnsXymjXDjfwX99XGHjXstBfifDxXnyXnxXstylXYtifDXjfhmXxtkhfqqjiXXhwnuyXPniinjXBtzqiXgjXfgqjXytXljyXxjsxnyn0jXnsktwrfyntsjXnkXymjDXBjwjXjshwDuyjiXymnxXBfDl\n",
      "ZnoyYktixEvzkjYskyygmkYyngrrYirgxolEYnuCYTUZYzuYktixEvzYgYskyygmkYzujgEZYK1ktYolYozYCgyYy0lloioktzYghu0zY8666YEkgxyYgmukYuxYzuYhkYsuxkYvxkioykYotYznkYEkgxYAAYHIkYtuCgjgEyYozYoyYtuzmYZujgEYkginYyuligrrkjYYixovzYQojjokYCu0rjYhkYghrkYzuYmkzYyktyozo1kYotluxsgzoutkYolYznkEYCkxkYktixEvzkjYznoyYCgEm\n",
      "aopzZlujyFw0lkZtlzzhnlZzohssZjshypmFZovDZUVaZ0vZlujyFw0ZhZtlzzhnlZ0vkhFaZL2luZpmZp0ZDhzZz1mmpjplu0Zhiv10Z9777ZFlhyzZhnvlZvyZ0vZilZtvylZwyljpzlZpuZ0olZFlhyZBBZIJlZuvDhkhFzZp0ZpzZuv0nZavkhFZlhjoZzvmjhsslkZZjypw0ZRpkkplZDv1skZilZhislZ0vZnl0Zzluzp0p2lZpumvyth0pvulZpmZ0olFZDlylZlujyFw0lkZ0opzZDhFn\n",
      "bpq0amvkzGx1mlaum00ioma0pittaktizqnGapwEaVWba1wamvkzGx1aiaum00ioma1wliGbaM3mvaqnaq1aEi0a02nnqkqmv1aijw21aA888aGmiz0aiowmawza1wajmauwzmaxzmkq0maqva1pmaGmizaCCaJKmavwEiliG0aq1aq0avw1oabwliGamikpa0wnkittmlaakzqx1aSqllqmaEw2tlajmaijtma1waom1a0mv0q1q3maqvnwzui1qwvmaqna1pmGaEmzmamvkzGx1mla1pq0aEiGo\n",
      "cqr1bnwl0Hy2nmbvn11jpnb1qjuubluj0roHbqxFbWXcb2xbnwl0Hy2bjbvn11jpnb2xmjHcbN4nwbrobr2bFj1b13oorlrnw2bjkx32bB999bHnj01bjpxnbx0b2xbknbvx0nby0nlr1nbrwb2qnbHnj0bDDbKLnbwxFjmjH1br2br1bwx2pbcxmjHbnjlqb1xoljuunmbbl0ry2bTrmmrnbFx3umbknbjkunb2xbpn2b1nw1r2r4nbrwox0vj2rxwnbrob2qnHbFn0nbnwl0Hy2nmb2qr1bFjHp\n",
      "drs2coxm1Iz3oncwo22kqoc2rkvvcmvk1spIcryGcXYdc3ycoxm1Iz3ckcwo22kqoc3ynkIdcO5oxcspcs3cGk2c24ppsmsox3ckly43cCAAAcIok12ckqyocy1c3yclocwy1ocz1oms2ocsxc3rocIok1cEEcLMocxyGknkI2cs3cs2cxy3qcdynkIcokmrc2ypmkvvonccm1sz3cUsnnsocGy4vnclocklvoc3ycqo3c2ox2s3s5ocsxpy1wk3syxocspc3roIcGo1ocoxm1Iz3onc3rs2cGkIq\n",
      "est3dpyn2J04podxp33lrpd3slwwdnwl2tqJdszHdYZed4zdpyn2J04dldxp33lrpd4zolJedP6pydtqdt4dHl3d35qqtntpy4dlmz54dDBBBdJpl23dlrzpdz2d4zdmpdxz2pd02pnt3pdtyd4spdJpl2dFFdMNpdyzHlolJ3dt4dt3dyz4rdezolJdplnsd3zqnlwwpoddn2t04dVtootpdHz5wodmpdlmwpd4zdrp4d3py3t4t6pdtyqz2xl4tzypdtqd4spJdHp2pdpyn2J04pod4st3dHlJr\n",
      "ftu4eqzo3K15qpeyq44msqe4tmxxeoxm3urKet0IeZafe50eqzo3K15emeyq44msqe50pmKfeQ7qzeureu5eIm4e46rruouqz5emn065eECCCeKqm34ems0qe03e50enqey03qe13qou4qeuze5tqeKqm3eGGeNOqez0ImpmK4eu5eu4ez05sef0pmKeqmote40romxxqpeeo3u15eWuppuqeI06xpenqemnxqe50esq5e4qz4u5u7qeuzr03ym5u0zqeure5tqKeIq3qeqzo3K15qpe5tu4eImKs\n",
      "guv5fr0p4L26rqfzr55ntrf5unyyfpyn4vsLfu1Jfabgf61fr0p4L26fnfzr55ntrf61qnLgfR8r0fvsfv6fJn5f57ssvpvr06fno176fFDDDfLrn45fnt1rf14f61forfz14rf24rpv5rfv0f6urfLrn4fHHfOPrf01JnqnL5fv6fv5f016tfg1qnLfrnpuf51spnyyrqffp4v26fXvqqvrfJ17yqforfnoyrf61ftr6f5r05v6v8rfv0s14zn6v10rfvsf6urLfJr4rfr0p4L26rqf6uv5fJnLt\n",
      "hvw6gs1q5M37srg0s66ousg6vozzgqzo5wtMgv2Kgbchg72gs1q5M37gog0s66ousg72roMhgS9s1gwtgw7gKo6g68ttwqws17gop287gGEEEgMso56gou2sg25g72gpsg025sg35sqw6sgw1g7vsgMso5gIIgPQsg12KoroM6gw7gw6g127ugh2roMgsoqvg62tqozzsrggq5w37gYwrrwsgK28zrgpsgopzsg72gus7g6s16w7w9sgw1t250o7w21sgwtg7vsMgKs5sgs1q5M37srg7vw6gKoMu\n",
      "iwx7ht2r6N48tsh1t77pvth7wp00hr0p6xuNhw3Lhcdih83ht2r6N48hph1t77pvth83spNihTAt2hxuhx8hLp7h79uuxrxt28hpq398hHFFFhNtp67hpv3th36h83hqth136th46trx7thx2h8wthNtp6hJJhQRth23LpspN7hx8hx7h238vhi3spNhtprwh73urp00tshhr6x48hZxssxthL390shqthpq0th83hvt8h7t27x8xAthx2u361p8x32thxuh8wtNhLt6tht2r6N48tsh8wx7hLpNv\n",
      "jxy8iu3s7O59uti2u88qwui8xq11is1q7yvOix4Mideji94iu3s7O59iqi2u88qwui94tqOjiUBu3iyviy9iMq8i8Avvysyu39iqr4A9iIGGGiOuq78iqw4ui47i94irui247ui57usy8uiy3i9xuiOuq7iKKiRSui34MqtqO8iy9iy8i349wij4tqOiuqsxi84vsq11utiis7y59iayttyuiM4A1tiruiqr1ui94iwu9i8u38y9yBuiy3v472q9y43uiyvi9xuOiMu7uiu3s7O59uti9xy8iMqOw\n",
      "kyz9jv4t8P6Avuj3v99rxvj9yr22jt2r8zwPjy5NjefkjA5jv4t8P6Ajrj3v99rxvjA5urPkjVCv4jzwjzAjNr9j9Bwwztzv4Ajrs5BAjJHHHjPvr89jrx5vj58jA5jsvj358vj68vtz9vjz4jAyvjPvr8jLLjSTvj45NrurP9jzAjz9j45Axjk5urPjvrtyj95wtr22vujjt8z6AjbzuuzvjN5B2ujsvjrs2vjA5jxvAj9v49zAzCvjz4w583rAz54vjzwjAyvPjNv8vjv4t8P6AvujAyz9jNrPx\n",
      "lz0Akw5u9Q7Bwvk4wAAsywkAzs33ku3s90xQkz6OkfglkB6kw5u9Q7Bksk4wAAsywkB6vsQlkWDw5k0xk0BkOsAkACxx0u0w5Bkst6CBkKIIIkQws9Aksy6wk69kB6ktwk469wk79wu0Awk05kBzwkQws9kMMkTUwk56OsvsQAk0Bk0Ak56Bykl6vsQkwsuzkA6xus33wvkku907Bkc0vv0wkO6C3vktwkst3wkB6kywBkAw5A0B0Dwk05x694sB065wk0xkBzwQkOw9wkw5u9Q7BwvkBz0AkOsQy\n",
      "m01Blx6vAR8Cxwl5xBBtzxlB0t44lv4tA1yRl07PlghmlC7lx6vAR8Cltl5xBBtzxlC7wtRmlXEx6l1yl1ClPtBlBDyy1v1x6Cltu7DClLJJJlRxtABltz7xl7AlC7luxl57Axl8Axv1Bxl16lC0xlRxtAlNNlUVxl67PtwtRBl1Cl1Bl67Czlm7wtRlxtv0lB7yvt44xwllvA18Cld1ww1xlP7D4wluxltu4xlC7lzxClBx6B1C1Exl16y7A5tC176xl1ylC0xRlPxAxlx6vAR8CxwlC01BlPtRz\n",
      "n12Cmy7wBS9Dyxm6yCCu0ymC1u55mw5uB2zSm18QmhinmD8my7wBS9Dmum6yCCu0ymD8xuSnmYFy7m2zm2DmQuCmCEzz2w2y7Dmuv8EDmMKKKmSyuBCmu08ym8BmD8mvym68Bym9Byw2Cym27mD1ymSyuBmOOmVWym78QuxuSCm2Dm2Cm78D0mn8xuSmyuw1mC8zwu55yxmmwB29Dme2xx2ymQ8E5xmvymuv5ymD8m0yDmCy7C2D2Fym27z8B6uD287ym2zmD1ySmQyBymy7wBS9DyxmD12CmQuS0\n",
      "o23Dnz8xCTAEzyn7zDDv1znD2v66nx6vC30Tn29RnijonE9nz8xCTAEnvn7zDDv1znE9yvTonZGz8n30n3EnRvDnDF003x3z8Envw9FEnNLLLnTzvCDnv19zn9CnE9nwzn79CznACzx3Dzn38nE2znTzvCnPPnWXzn89RvyvTDn3En3Dn89E1no9yvTnzvx2nD90xv66zynnxC3AEnf3yy3znR9F6ynwznvw6znE9n1zEnDz8D3E3Gzn3809C7vE398zn30nE2zTnRzCznz8xCTAEzynE23DnRvT1\n",
      "p34Eo09yDUBF0zo80EEw20oE3w77oy7wD41Uo3ASojkpoFAo09yDUBFowo80EEw20oFAzwUpoaH09o41o4FoSwEoEG114y409FowxAGFoOMMMoU0wDEow2A0oADoFAox0o8AD0oBD0y4E0o49oF30oU0wDoQQoXY0o9ASwzwUEo4Fo4Eo9AF2opAzwUo0wy3oEA1yw770zooyD4BFog4zz40oSAG7zox0owx70oFAo20FoE09E4F4H0o491AD8wF4A90o41oF30UoS0D0o09yDUBF0zoF34EoSwU2\n",
      "q45Fp1AzEVCG10p91FFx31pF4x88pz8xE52Vp4BTpklqpGBp1AzEVCGpxp91FFx31pGB0xVqpbI1Ap52p5GpTxFpFH225z51AGpxyBHGpPNNNpV1xEFpx3B1pBEpGBpy1p9BE1pCE1z5F1p5ApG41pV1xEpRRpYZ1pABTx0xVFp5Gp5FpABG3pqB0xVp1xz4pFB2zx8810ppzE5CGph50051pTBH80py1pxy81pGBp31GpF1AF5G5I1p5A2BE9xG5BA1p52pG41VpT1E1p1AzEVCG10pG45FpTxV3\n",
      "r56Gq2B0FWDH21qA2GGy42qG5y99q09yF63Wq5CUqlmrqHCq2B0FWDHqyqA2GGy42qHC1yWrqcJ2Bq63q6HqUyGqGI336062BHqyzCIHqQOOOqW2yFGqy4C2qCFqHCqz2qACF2qDF206G2q6BqH52qW2yFqSSqZa2qBCUy1yWGq6Hq6GqBCH4qrC1yWq2y05qGC30y9921qq0F6DHqi61162qUCI91qz2qyz92qHCq42HqG2BG6H6J2q6B3CFAyH6CB2q63qH52WqU2F2q2B0FWDH21qH56GqUyW4\n",
      "s67Hr3C1GXEI32rB3HHz53rH6zAAr1AzG74Xr6DVrmnsrIDr3C1GXEIrzrB3HHz53rID2zXsrdK3Cr74r7IrVzHrHJ447173CIrz0DJIrRPPPrX3zGHrz5D3rDGrIDr03rBDG3rEG317H3r7CrI63rX3zGrTTrab3rCDVz2zXHr7Ir7HrCDI5rsD2zXr3z16rHD41zAA32rr1G7EIrj72273rVDJA2r03rz0A3rIDr53IrH3CH7I7K3r7C4DGBzI7DC3r74rI63XrV3G3r3C1GXEI32rI67HrVzX5\n",
      "t78Is4D2HYFJ43sC4II064sI70BBs2B0H85Ys7EWsnotsJEs4D2HYFJs0sC4II064sJE30YtseL4Ds85s8JsW0IsIK558284DJs01EKJsSQQQsY40HIs06E4sEHsJEs14sCEH4sFH428I4s8DsJ74sY40HsUUsbc4sDEW030YIs8Js8IsDEJ6stE30Ys4027sIE520BB43ss2H8FJsk83384sWEKB3s14s01B4sJEs64JsI4DI8J8L4s8D5EHC0J8ED4s85sJ74YsW4H4s4D2HYFJ43sJ78IsW0Y6\n",
      "u89Jt5E3IZGK54tD5JJ175tJ81CCt3C1I96Zt8FXtoputKFt5E3IZGKt1tD5JJ175tKF41ZutfM5Et96t9KtX1JtJL669395EKt12FLKtTRRRtZ51IJt17F5tFItKFt25tDFI5tGI539J5t9EtK85tZ51ItVVtcd5tEFX141ZJt9Kt9JtEFK7tuF41Zt5138tJF631CC54tt3I9GKtl94495tXFLC4t25t12C5tKFt75KtJ5EJ9K9M5t9E6FID1K9FE5t96tK85ZtX5I5t5E3IZGK54tK89JtX1Z7\n",
      "v9AKu6F4JaHL65uE6KK286uK92DDu4D2JA7au9GYupqvuLGu6F4JaHLu2uE6KK286uLG52avugN6FuA7uALuY2KuKM77A4A6FLu23GMLuUSSSua62JKu28G6uGJuLGu36uEGJ6uHJ64AK6uAFuL96ua62JuWWude6uFGY252aKuALuAKuFGL8uvG52au6249uKG742DD65uu4JAHLumA55A6uYGMD5u36u23D6uLGu86LuK6FKALAN6uAF7GJE2LAGF6uA7uL96auY6J6u6F4JaHL65uL9AKuY2a8\n",
      "wABLv7G5KbIM76vF7LL397vLA3EEv5E3KB8bvAHZvqrwvMHv7G5KbIMv3vF7LL397vMH63bwvhO7GvB8vBMvZ3LvLN88B5B7GMv34HNMvVTTTvb73KLv39H7vHKvMHv47vFHK7vIK75BL7vBGvMA7vb73KvXXvef7vGHZ363bLvBMvBLvGHM9vwH63bv735AvLH853EE76vv5KBIMvnB66B7vZHNE6v47v34E7vMHv97MvL7GLBMBO7vBG8HKF3MBHG7vB8vMA7bvZ7K7v7G5KbIM76vMABLvZ3b9\n",
      "xBCMw8H6LcJN87wG8MM4A8wMB4FFw6F4LC9cwBIawrsxwNIw8H6LcJNw4wG8MM4A8wNI74cxwiP8HwC9wCNwa4MwMO99C6C8HNw45IONwWUUUwc84LMw4AI8wILwNIw58wGIL8wJL86CM8wCHwNB8wc84LwYYwfg8wHIa474cMwCNwCMwHINAwxI74cw846BwMI964FF87ww6LCJNwoC77C8waIOF7w58w45F8wNIwA8NwM8HMCNCP8wCH9ILG4NCIH8wC9wNB8cwa8L8w8H6LcJN87wNBCMwa4cA\n",
      "yCDNx9I7MdKO98xH9NN5B9xNC5GGx7G5MDAdxCJbxstyxOJx9I7MdKOx5xH9NN5B9xOJ85dyxjQ9IxDAxDOxb5NxNPAAD7D9IOx56JPOxXVVVxd95MNx5BJ9xJMxOJx69xHJM9xKM97DN9xDIxOC9xd95MxZZxgh9xIJb585dNxDOxDNxIJOBxyJ85dx957CxNJA75GG98xx7MDKOxpD88D9xbJPG8x69x56G9xOJxB9OxN9INDODQ9xDIAJMH5ODJI9xDAxOC9dxb9M9x9I7MdKO98xOCDNxb5dB\n",
      "zDEOyAJ8NeLPA9yIAOO6CAyOD6HHy8H6NEBeyDKcytuzyPKyAJ8NeLPy6yIAOO6CAyPK96ezykRAJyEByEPyc6OyOQBBE8EAJPy67KQPyYWWWyeA6NOy6CKAyKNyPKy7AyIKNAyLNA8EOAyEJyPDAyeA6NyaayhiAyJKc696eOyEPyEOyJKPCyzK96eyA68DyOKB86HHA9yy8NELPyqE99EAycKQH9y7Ay67HAyPKyCAPyOAJOEPERAyEJBKNI6PEKJAyEByPDAeycANAyAJ8NeLPA9yPDEOyc6eC\n",
      "0EFPzBK9OfMQBAzJBPP7DBzPE7IIz9I7OFCfzELdzuv0zQLzBK9OfMQz7zJBPP7DBzQLA7f0zlSBKzFCzFQzd7PzPRCCF9FBKQz78LRQzZXXXzfB7OPz7DLBzLOzQLz8BzJLOBzMOB9FPBzFKzQEBzfB7OzbbzijBzKLd7A7fPzFQzFPzKLQDz0LA7fzB79EzPLC97IIBAzz9OFMQzrFAAFBzdLRIAz8Bz78IBzQLzDBQzPBKPFQFSBzFKCLOJ7QFLKBzFCzQEBfzdBOBzBK9OfMQBAzQEFPzd7fD\n",
      "1FGQ0CLAPgNRCB0KCQQ8EC0QF8JJ0AJ8PGDg0FMe0vw10RM0CLAPgNR080KCQQ8EC0RMB8g10mTCL0GD0GR0e8Q0QSDDGAGCLR089MSR0aYYY0gC8PQ08EMC0MP0RM09C0KMPC0NPCAGQC0GL0RFC0gC8P0cc0jkC0LMe8B8gQ0GR0GQ0LMRE01MB8g0C8AF0QMDA8JJCB00APGNR0sGBBGC0eMSJB09C089JC0RM0ECR0QCLQGRGTC0GLDMPK8RGMLC0GD0RFCg0eCPC0CLAPgNRCB0RFGQ0e8gE\n",
      "2GHR1DMBQhOSDC1LDRR9FD1RG9KK1BK9QHEh1GNf1wx21SN1DMBQhOS191LDRR9FD1SNC9h21nUDM1HE1HS1f9R1RTEEHBHDMS19ANTS1bZZZ1hD9QR19FND1NQ1SN1AD1LNQD1OQDBHRD1HM1SGD1hD9Q1dd1klD1MNf9C9hR1HS1HR1MNSF12NC9h1D9BG1RNEB9KKDC11BQHOS1tHCCHD1fNTKC1AD19AKD1SN1FDS1RDMRHSHUD1HMENQL9SHNMD1HE1SGDh1fDQD1DMBQhOSDC1SGHR1f9hF\n",
      "3HIS2ENCRiPTED2MESSAGE2SHALL2CLARIFi2HOg2xy32TO2ENCRiPT2A2MESSAGE2TODAi32oVEN2IF2IT2gAS2SUFFICIENT2ABOUT2caaa2iEARS2AGOE2OR2TO2BE2MORE2PRECISE2IN2THE2iEAR2ee2lmE2NOgADAiS2IT2IS2NOTG23ODAi2EACH2SOFCALLED22CRIPT2uIDDIE2gOULD2BE2ABLE2TO2GET2SENSITIVE2INFORMATIONE2IF2THEi2gERE2ENCRiPTED2THIS2gAiG\n",
      "4IJT3FODSjQUFE3NFTTBHF3TIBMM3DMBSJGj3IPh3yz43UP3FODSjQU3B3NFTTBHF3UPEBj43pWFO3JG3JU3hBT3TVGGJDJFOU3BCPVU3dbbb3jFBST3BHPF3PS3UP3CF3NPSF3QSFDJTF3JO3UIF3jFBS3ff3mnF3OPhBEBjT3JU3JT3OPUH34PEBj3FBDI3TPGDBMMFE33DSJQU3vJEEJF3hPVME3CF3BCMF3UP3HFU3TFOTJUJWF3JOGPSNBUJPOF3JG3UIFj3hFSF3FODSjQUFE3UIJT3hBjH\n",
      "5JKU4GPETkRVGF4OGUUCIG4UJCNN4ENCTKHk4JQi4z054VQ4GPETkRV4C4OGUUCIG4VQFCk54qXGP4KH4KV4iCU4UWHHKEKGPV4CDQWV4eccc4kGCTU4CIQG4QT4VQ4DG4OQTG4RTGEKUG4KP4VJG4kGCT4gg4noG4PQiCFCkU4KV4KU4PQVI45QFCk4GCEJ4UQHECNNGF44ETKRV4wKFFKG4iQWNF4DG4CDNG4VQ4IGV4UGPUKVKXG4KPHQTOCVKQPG4KH4VJGk4iGTG4GPETkRVGF4VJKU4iCkI\n",
      "6KLV5HQFUlSWHG5PHVVDJH5VKDOO5FODULIl5KRj50165WR5HQFUlSW5D5PHVVDJH5WRGDl65rYHQ5LI5LW5jDV5VXIILFLHQW5DERXW5fddd5lHDUV5DJRH5RU5WR5EH5PRUH5SUHFLVH5LQ5WKH5lHDU5hh5opH5QRjDGDlV5LW5LV5QRWJ56RGDl5HDFK5VRIFDOOHG55FULSW5xLGGLH5jRXOG5EH5DEOH5WR5JHW5VHQVLWLYH5LQIRUPDWLRQH5LI5WKHl5jHUH5HQFUlSWHG5WKLV5jDlJ\n",
      "7LMW6IRGVmTXIH6QIWWEKI6WLEPP6GPEVMJm6LSk61276XS6IRGVmTX6E6QIWWEKI6XSHEm76sZIR6MJ6MX6kEW6WYJJMGMIRX6EFSYX6geee6mIEVW6EKSI6SV6XS6FI6QSVI6TVIGMWI6MR6XLI6mIEV6ii6pqI6RSkEHEmW6MX6MW6RSXK67SHEm6IEGL6WSJGEPPIH66GVMTX6yMHHMI6kSYPH6FI6EFPI6XS6KIX6WIRWMXMZI6MRJSVQEXMSRI6MJ6XLIm6kIVI6IRGVmTXIH6XLMW6kEmK\n",
      "8MNX7JSHWnUYJI7RJXXFLJ7XMFQQ7HQFWNKn7MTl72387YT7JSHWnUY7F7RJXXFLJ7YTIFn87taJS7NK7NY7lFX7XZKKNHNJSY7FGTZY7hfff7nJFWX7FLTJ7TW7YT7GJ7RTWJ7UWJHNXJ7NS7YMJ7nJFW7jj7qrJ7STlFIFnX7NY7NX7STYL78TIFn7JFHM7XTKHFQQJI77HWNUY7zNIINJ7lTZQI7GJ7FGQJ7YT7LJY7XJSXNYNaJ7NSKTWRFYNTSJ7NK7YMJn7lJWJ7JSHWnUYJI7YMNX7lFnL\n",
      "9NOY8KTIXoVZKJ8SKYYGMK8YNGRR8IRGXOLo8NUm83498ZU8KTIXoVZ8G8SKYYGMK8ZUJGo98ubKT8OL8OZ8mGY8YaLLOIOKTZ8GHUaZ8iggg8oKGXY8GMUK8UX8ZU8HK8SUXK8VXKIOYK8OT8ZNK8oKGX8kk8rsK8TUmGJGoY8OZ8OY8TUZM89UJGo8KGIN8YULIGRRKJ88IXOVZ80OJJOK8mUaRJ8HK8GHRK8ZU8MKZ8YKTYOZObK8OTLUXSGZOUTK8OL8ZNKo8mKXK8KTIXoVZKJ8ZNOY8mGoM\n",
      "AOPZ9LUJYpWaLK9TLZZHNL9ZOHSS9JSHYPMp9OVn945A9aV9LUJYpWa9H9TLZZHNL9aVKHpA9vcLU9PM9Pa9nHZ9ZbMMPJPLUa9HIVba9jhhh9pLHYZ9HNVL9VY9aV9IL9TVYL9WYLJPZL9PU9aOL9pLHY9ll9stL9UVnHKHpZ9Pa9PZ9UVaN9AVKHp9LHJO9ZVMJHSSLK99JYPWa91PKKPL9nVbSK9IL9HISL9aV9NLa9ZLUZPaPcL9PUMVYTHaPVUL9PM9aOLp9nLYL9LUJYpWaLK9aOPZ9nHpN\n",
      "BPQaAMVKZqXbMLAUMaaIOMAaPITTAKTIZQNqAPWoA56BAbWAMVKZqXbAIAUMaaIOMAbWLIqBAwdMVAQNAQbAoIaAacNNQKQMVbAIJWcbAkiiiAqMIZaAIOWMAWZAbWAJMAUWZMAXZMKQaMAQVAbPMAqMIZAmmAtuMAVWoILIqaAQbAQaAVWbOABWLIqAMIKPAaWNKITTMLAAKZQXbA2QLLQMAoWcTLAJMAIJTMAbWAOMbAaMVaQbQdMAQVNWZUIbQWVMAQNAbPMqAoMZMAMVKZqXbMLAbPQaAoIqO\n",
      "CQRbBNWLarYcNMBVNbbJPNBbQJUUBLUJaROrBQXpB67CBcXBNWLarYcBJBVNbbJPNBcXMJrCBxeNWBROBRcBpJbBbdOORLRNWcBJKXdcBljjjBrNJabBJPXNBXaBcXBKNBVXaNBYaNLRbNBRWBcQNBrNJaBnnBuvNBWXpJMJrbBRcBRbBWXcPBCXMJrBNJLQBbXOLJUUNMBBLaRYcB3RMMRNBpXdUMBKNBJKUNBcXBPNcBbNWbRcReNBRWOXaVJcRXWNBROBcQNrBpNaNBNWLarYcNMBcQRbBpJrP\n",
      "DRScCOXMbsZdONCWOccKQOCcRKVVCMVKbSPsCRYqC78DCdYCOXMbsZdCKCWOccKQOCdYNKsDCyfOXCSPCSdCqKcCcePPSMSOXdCKLYedCmkkkCsOKbcCKQYOCYbCdYCLOCWYbOCZbOMScOCSXCdROCsOKbCooCvwOCXYqKNKscCSdCScCXYdQCDYNKsCOKMRCcYPMKVVONCCMbSZdC4SNNSOCqYeVNCLOCKLVOCdYCQOdCcOXcSdSfOCSXPYbWKdSYXOCSPCdROsCqObOCOXMbsZdONCdRScCqKsQ\n",
      "ESTdDPYNctaePODXPddLRPDdSLWWDNWLcTQtDSZrD89EDeZDPYNctaeDLDXPddLRPDeZOLtEDzgPYDTQDTeDrLdDdfQQTNTPYeDLMZfeDnlllDtPLcdDLRZPDZcDeZDMPDXZcPDacPNTdPDTYDeSPDtPLcDppDwxPDYZrLOLtdDTeDTdDYZeRDEZOLtDPLNSDdZQNLWWPODDNcTaeD5TOOTPDrZfWODMPDLMWPDeZDRPeDdPYdTeTgPDTYQZcXLeTZYPDTQDeSPtDrPcPDPYNctaePODeSTdDrLtR\n",
      "FTUeEQZOdubfQPEYQeeMSQEeTMXXEOXMdURuETasE9AFEfaEQZOdubfEMEYQeeMSQEfaPMuFE0hQZEUREUfEsMeEegRRUOUQZfEMNagfEommmEuQMdeEMSaQEadEfaENQEYadQEbdQOUeQEUZEfTQEuQMdEqqExyQEZasMPMueEUfEUeEZafSEFaPMuEQMOTEeaROMXXQPEEOdUbfE6UPPUQEsagXPENQEMNXQEfaESQfEeQZeUfUhQEUZRadYMfUaZQEUREfTQuEsQdQEQZOdubfQPEfTUeEsMuS\n",
      "GUVfFRaPevcgRQFZRffNTRFfUNYYFPYNeVSvFUbtFABGFgbFRaPevcgFNFZRffNTRFgbQNvGF1iRaFVSFVgFtNfFfhSSVPVRagFNObhgFpnnnFvRNefFNTbRFbeFgbFORFZbeRFceRPVfRFVaFgURFvRNeFrrFyzRFabtNQNvfFVgFVfFabgTFGbQNvFRNPUFfbSPNYYRQFFPeVcgF7VQQVRFtbhYQFORFNOYRFgbFTRgFfRafVgViRFVaSbeZNgVbaRFVSFgURvFtReRFRaPevcgRQFgUVfFtNvT\n",
      "HVWgGSbQfwdhSRGaSggOUSGgVOZZGQZOfWTwGVcuGBCHGhcGSbQfwdhGOGaSggOUSGhcROwHG2jSbGWTGWhGuOgGgiTTWQWSbhGOPcihGqoooGwSOfgGOUcSGcfGhcGPSGacfSGdfSQWgSGWbGhVSGwSOfGssGz0SGbcuOROwgGWhGWgGbchUGHcROwGSOQVGgcTQOZZSRGGQfWdhG8WRRWSGuciZRGPSGOPZSGhcGUShGgSbgWhWjSGWbTcfaOhWcbSGWTGhVSwGuSfSGSbQfwdhSRGhVWgGuOwU\n",
      "IWXhHTcRgxeiTSHbThhPVTHhWPaaHRaPgXUxHWdvHCDIHidHTcRgxeiHPHbThhPVTHidSPxIH3kTcHXUHXiHvPhHhjUUXRXTciHPQdjiHrpppHxTPghHPVdTHdgHidHQTHbdgTHegTRXhTHXcHiWTHxTPgHttH01THcdvPSPxhHXiHXhHcdiVHIdSPxHTPRWHhdURPaaTSHHRgXeiH9XSSXTHvdjaSHQTHPQaTHidHVTiHhTchXiXkTHXcUdgbPiXdcTHXUHiWTxHvTgTHTcRgxeiTSHiWXhHvPxV\n",
      "JXYiIUdShyfjUTIcUiiQWUIiXQbbISbQhYVyIXewIDEJIjeIUdShyfjIQIcUiiQWUIjeTQyJI4lUdIYVIYjIwQiIikVVYSYUdjIQRekjIsqqqIyUQhiIQWeUIehIjeIRUIcehUIfhUSYiUIYdIjXUIyUQhIuuI12UIdewQTQyiIYjIYiIdejWIJeTQyIUQSXIieVSQbbUTIIShYfjIAYTTYUIwekbTIRUIQRbUIjeIWUjIiUdiYjYlUIYdVehcQjYedUIYVIjXUyIwUhUIUdShyfjUTIjXYiIwQyW\n",
      "KYZjJVeTizgkVUJdVjjRXVJjYRccJTcRiZWzJYfxJEFKJkfJVeTizgkJRJdVjjRXVJkfURzKJ5mVeJZWJZkJxRjJjlWWZTZVekJRSflkJtrrrJzVRijJRXfVJfiJkfJSVJdfiVJgiVTZjVJZeJkYVJzVRiJvvJ23VJefxRURzjJZkJZjJefkXJKfURzJVRTYJjfWTRccVUJJTiZgkJBZUUZVJxflcUJSVJRScVJkfJXVkJjVejZkZmVJZeWfidRkZfeVJZWJkYVzJxViVJVeTizgkVUJkYZjJxRzX\n",
      "LZakKWfUj0hlWVKeWkkSYWKkZSddKUdSjaX0KZgyKFGLKlgKWfUj0hlKSKeWkkSYWKlgVS0LK6nWfKaXKalKySkKkmXXaUaWflKSTgmlKusssK0WSjkKSYgWKgjKlgKTWKegjWKhjWUakWKafKlZWK0WSjKwwK34WKfgySVS0kKalKakKfglYKLgVS0KWSUZKkgXUSddWVKKUjahlKCaVVaWKygmdVKTWKSTdWKlgKYWlKkWfkalanWKafXgjeSlagfWKaXKlZW0KyWjWKWfUj0hlWVKlZakKyS0Y\n",
      "MablLXgVk1imXWLfXllTZXLlaTeeLVeTkbY1LahzLGHMLmhLXgVk1imLTLfXllTZXLmhWT1ML7oXgLbYLbmLzTlLlnYYbVbXgmLTUhnmLvtttL1XTklLTZhXLhkLmhLUXLfhkXLikXVblXLbgLmaXL1XTkLxxL45XLghzTWT1lLbmLblLghmZLMhWT1LXTVaLlhYVTeeXWLLVkbimLDbWWbXLzhneWLUXLTUeXLmhLZXmLlXglbmboXLbgYhkfTmbhgXLbYLmaX1LzXkXLXgVk1imXWLmablLzT1Z\n",
      "NbcmMYhWl2jnYXMgYmmUaYMmbUffMWfUlcZ2Mbi0MHINMniMYhWl2jnMUMgYmmUaYMniXU2NM8pYhMcZMcnM0UmMmoZZcWcYhnMUVionMwuuuM2YUlmMUaiYMilMniMVYMgilYMjlYWcmYMchMnbYM2YUlMyyM56YMhi0UXU2mMcnMcmMhinaMNiXU2MYUWbMmiZWUffYXMMWlcjnMEcXXcYM0iofXMVYMUVfYMniMaYnMmYhmcncpYMchZilgUncihYMcZMnbY2M0YlYMYhWl2jnYXMnbcmM0U2a\n",
      "OcdnNZiXm3koZYNhZnnVbZNncVggNXgVmda3Ncj1NIJONojNZiXm3koNVNhZnnVbZNojYV3ON9qZiNdaNdoN1VnNnpaadXdZioNVWjpoNxvvvN3ZVmnNVbjZNjmNojNWZNhjmZNkmZXdnZNdiNocZN3ZVmNzzN67ZNij1VYV3nNdoNdnNijobNOjYV3NZVXcNnjaXVggZYNNXmdkoNFdYYdZN1jpgYNWZNVWgZNojNbZoNnZindodqZNdiajmhVodjiZNdaNocZ3N1ZmZNZiXm3koZYNocdnN1V3b\n",
      "PdeoOajYn4lpaZOiaooWcaOodWhhOYhWneb4Odk2OJKPOpkOajYn4lpOWOiaooWcaOpkZW4POArajOebOepO2WoOoqbbeYeajpOWXkqpOywwwO4aWnoOWckaOknOpkOXaOiknaOlnaYeoaOejOpdaO4aWnO00O78aOjk2WZW4oOepOeoOjkpcOPkZW4OaWYdOokbYWhhaZOOYnelpOGeZZeaO2kqhZOXaOWXhaOpkOcapOoajoeperaOejbkniWpekjaOebOpda4O2anaOajYn4lpaZOpdeoO2W4c\n",
      "QefpPbkZo5mqbaPjbppXdbPpeXiiPZiXofc5Pel3PKLQPqlPbkZo5mqPXPjbppXdbPqlaX5QPBsbkPfcPfqP3XpPprccfZfbkqPXYlrqPzxxxP5bXopPXdlbPloPqlPYbPjlobPmobZfpbPfkPqebP5bXoP11P89bPkl3XaX5pPfqPfpPklqdPQlaX5PbXZePplcZXiibaPPZofmqPHfaafbP3lriaPYbPXYibPqlPdbqPpbkpfqfsbPfkclojXqflkbPfcPqeb5P3bobPbkZo5mqbaPqefpP3X5d\n",
      "RfgqQclap6nrcbQkcqqYecQqfYjjQajYpgd6Qfm4QLMRQrmQclap6nrQYQkcqqYecQrmbY6RQCtclQgdQgrQ4YqQqsddgagclrQYZmsrQ0yyyQ6cYpqQYemcQmpQrmQZcQkmpcQnpcagqcQglQrfcQ6cYpQ22Q9AcQlm4YbY6qQgrQgqQlmreQRmbY6QcYafQqmdaYjjcbQQapgnrQIgbbgcQ4msjbQZcQYZjcQrmQecrQqclqgrgtcQgldmpkYrgmlcQgdQrfc6Q4cpcQclap6nrcbQrfgqQ4Y6e\n",
      "SghrRdmbq7osdcRldrrZfdRrgZkkRbkZqhe7Rgn5RMNSRsnRdmbq7osRZRldrrZfdRsncZ7SRDudmRheRhsR5ZrRrteehbhdmsRZantsR1zzzR7dZqrRZfndRnqRsnRadRlnqdRoqdbhrdRhmRsgdR7dZqR33RABdRmn5ZcZ7rRhsRhrRmnsfRSncZ7RdZbgRrnebZkkdcRRbqhosRJhcchdR5ntkcRadRZakdRsnRfdsRrdmrhshudRhmenqlZshnmdRheRsgd7R5dqdRdmbq7osdcRsghrR5Z7f\n",
      "ThisSencr8ptedSmessageSshallSclarif8Sho6SNOTStoSencr8ptSaSmessageStoda8TSEvenSifSitS6asSsufficientSaboutS2000S8earsSagoeSorStoSbeSmoreSpreciseSinStheS8earS44SBCeSno6ada8sSitSisSnotgSToda8SeachSsofcalledSScriptSKiddieS6ouldSbeSableStoSgetSsensitiveSinformationeSifSthe8S6ereSencr8ptedSthisS6a8g\n",
      "UijtTfods9qufeTnfttbhfTtibmmTdmbsjg9Tip7TOPUTupTfods9quTbTnfttbhfTupeb9UTFwfoTjgTjuT7btTtvggjdjfouTbcpvuT3111T9fbstTbhpfTpsTupTcfTnpsfTqsfdjtfTjoTuifT9fbsT55TCDfTop7beb9tTjuTjtTopuhTUpeb9TfbdiTtpgdbmmfeTTdsjquTLjeejfT7pvmeTcfTbcmfTupThfuTtfotjujwfTjogpsnbujpofTjgTuif9T7fsfTfods9qufeTuijtT7b9h\n",
      "VjkuUgpetArvgfUoguucigUujcnnUenctkhAUjq8UPQVUvqUgpetArvUcUoguucigUvqfcAVUGxgpUkhUkvU8cuUuwhhkekgpvUcdqwvU4222UAgctuUciqgUqtUvqUdgUoqtgUrtgekugUkpUvjgUAgctU66UDEgUpq8cfcAuUkvUkuUpqviUVqfcAUgcejUuqhecnngfUUetkrvUMkffkgU8qwnfUdgUcdngUvqUigvUugpukvkxgUkphqtocvkqpgUkhUvjgAU8gtgUgpetArvgfUvjkuU8cAi\n",
      "WklvVhqfuBswhgVphvvdjhVvkdooVfoduliBVkr9VQRWVwrVhqfuBswVdVphvvdjhVwrgdBWVHyhqVliVlwV9dvVvxiilflhqwVderxwV5333VBhduvVdjrhVruVwrVehVpruhVsuhflvhVlqVwkhVBhduV77VEFhVqr9dgdBvVlwVlvVqrwjVWrgdBVhdfkVvrifdoohgVVfulswVNlgglhV9rxogVehVdeohVwrVjhwVvhqvlwlyhVlqirupdwlrqhVliVwkhBV9huhVhqfuBswhgVwklvV9dBj\n"
     ]
    }
   ],
   "source": [
    "for i in range(1,62):\n",
    "    newList = shiftList(converted_list,i)\n",
    "    converted_list_2 = [Base62_ASCII_convert(character) for character in newList]\n",
    "    concatenated_cypher = ''.join(converted_list_2)\n",
    "    print(concatenated_cypher)"
   ]
  },
  {
   "cell_type": "code",
   "execution_count": 91,
   "metadata": {},
   "outputs": [
    {
     "name": "stdout",
     "output_type": "stream",
     "text": [
      "ThisSencr8ptedSmessageSshallSclarif8Sho6SNOTStoSencr8ptSaSmessageStoda8TSEvenSifSitS6asSsufficientSaboutS2000S8earsSagoeSorStoSbeSmoreSpreciseSinStheS8earS44SBCeSno6ada8sSitSisSnotgSToda8SeachSsofcalledSScriptSKiddieS6ouldSbeSableStoSgetSsensitiveSinformationeSifSthe8S6ereSencr8ptedSthisS6a8g\n"
     ]
    }
   ],
   "source": [
    "i = 58\n",
    "newList = shiftList(converted_list,i)\n",
    "converted_list_2 = [Base62_ASCII_convert(character) for character in newList]\n",
    "concatenated_cypher = ''.join(converted_list_2)\n",
    "print(concatenated_cypher)"
   ]
  },
  {
   "cell_type": "code",
   "execution_count": 95,
   "metadata": {},
   "outputs": [
    {
     "data": {
      "text/plain": [
       "'ThisSencryptedSmessageSshallSclarifyShowSNOTStoSencryptSaSmessageStodayTSEvenSifSitSwasSsufficientSaboutS2000SyearsSagoeSorStoSbeSmoreSpreciseSinStheSyearS44SBCeSnowadaysSitSisSnotgSTodaySeachSsofcalledSScriptSKiddieSwouldSbeSableStoSgetSsensitiveSinformationeSifStheySwereSencryptedSthisSwayg'"
      ]
     },
     "execution_count": 95,
     "metadata": {},
     "output_type": "execute_result"
    }
   ],
   "source": [
    "concatenated_cypher_fixed = concatenated_cypher.replace(\"8\", \"y\").replace(\"6\", \"w\")\n",
    "concatenated_cypher_fixed"
   ]
  },
  {
   "cell_type": "markdown",
   "metadata": {},
   "source": []
  },
  {
   "cell_type": "code",
   "execution_count": null,
   "metadata": {},
   "outputs": [],
   "source": [
    "This encrypted message shall clarify how not to encrypt a message today! Even if it was sufficient about 2000 years ago or to be more precise in the year 24 BCE nowadays it is not. Today each so called script kiddie would be able to get sensitive information if they were encrypted this way."
   ]
  }
 ],
 "metadata": {
  "kernelspec": {
   "display_name": "cryptography",
   "language": "python",
   "name": "python3"
  },
  "language_info": {
   "codemirror_mode": {
    "name": "ipython",
    "version": 3
   },
   "file_extension": ".py",
   "mimetype": "text/x-python",
   "name": "python",
   "nbconvert_exporter": "python",
   "pygments_lexer": "ipython3",
   "version": "3.11.9"
  }
 },
 "nbformat": 4,
 "nbformat_minor": 2
}
